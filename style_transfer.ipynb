{
  "nbformat": 4,
  "nbformat_minor": 0,
  "metadata": {
    "colab": {
      "provenance": [],
      "collapsed_sections": [],
      "private_outputs": true
    },
    "kernelspec": {
      "name": "python3",
      "display_name": "Python 3"
    },
    "language_info": {
      "name": "python"
    },
    "accelerator": "GPU",
    "gpuClass": "standard"
  },
  "cells": [
    {
      "cell_type": "code",
      "source": [
        "from matplotlib import pyplot as plt\n",
        "import tensorflow_hub as hub\n",
        "import tensorflow as tf\n",
        "import numpy as np\n",
        "import cv2"
      ],
      "metadata": {
        "id": "T2eiyoC_per1"
      },
      "execution_count": null,
      "outputs": []
    },
    {
      "cell_type": "code",
      "source": [
        "model = hub.load('https://tfhub.dev/google/magenta/arbitrary-image-stylization-v1-256/2')"
      ],
      "metadata": {
        "id": "ji8jSphNphh1"
      },
      "execution_count": null,
      "outputs": []
    },
    {
      "cell_type": "code",
      "source": [
        "def model_img(img_path):\n",
        "    img = tf.io.read_file(img_path)\n",
        "    img = tf.image.decode_image(img, channels=3)\n",
        "    img = tf.image.convert_image_dtype(img, tf.float32)\n",
        "    img = img[tf.newaxis, :]\n",
        "    return img"
      ],
      "metadata": {
        "id": "vYo563BoppN-"
      },
      "execution_count": null,
      "outputs": []
    },
    {
      "cell_type": "code",
      "source": [
        "styled_pic = model_img(\"/content/pics/5678729-HULBEHOY-7.jpg\")\n",
        "fixed_pic = model_img(\"/content/pics/92709b0c0acbe201f3aa135bd36823ef.jpg\")"
      ],
      "metadata": {
        "id": "r9HmzwwSpsRY"
      },
      "execution_count": null,
      "outputs": []
    },
    {
      "cell_type": "code",
      "source": [
        "fixed_pic.shape"
      ],
      "metadata": {
        "id": "Kwz9eW0WqHB4"
      },
      "execution_count": null,
      "outputs": []
    },
    {
      "cell_type": "code",
      "source": [
        "styled_pic.shape"
      ],
      "metadata": {
        "id": "5RZCg0zYqR2v"
      },
      "execution_count": null,
      "outputs": []
    },
    {
      "cell_type": "code",
      "source": [
        "plt.imshow(np.squeeze(fixed_pic))\n",
        "plt.show()"
      ],
      "metadata": {
        "id": "V3VVthsRqTdx"
      },
      "execution_count": null,
      "outputs": []
    },
    {
      "cell_type": "code",
      "source": [
        "plt.imshow(np.squeeze(styled_pic))\n",
        "plt.show()"
      ],
      "metadata": {
        "id": "AObAXyskqTca"
      },
      "execution_count": null,
      "outputs": []
    },
    {
      "cell_type": "code",
      "source": [
        "stylized_image = model(tf.constant(fixed_pic), tf.constant(styled_pic))[0]"
      ],
      "metadata": {
        "id": "SerMVCaxqcHN"
      },
      "execution_count": null,
      "outputs": []
    },
    {
      "cell_type": "code",
      "source": [
        "plt.imshow(np.squeeze(stylized_image))\n",
        "plt.show()"
      ],
      "metadata": {
        "id": "U7wsYbdcqfAN"
      },
      "execution_count": null,
      "outputs": []
    }
  ]
}